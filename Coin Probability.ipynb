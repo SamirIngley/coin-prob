{
 "cells": [
  {
   "cell_type": "code",
   "execution_count": 36,
   "metadata": {},
   "outputs": [
    {
     "name": "stdout",
     "output_type": "stream",
     "text": [
      "0.125\n",
      "1.116\n"
     ]
    }
   ],
   "source": [
    "from random import choices\n",
    "\n",
    "\n",
    "our_events = (['H', 'H', 'T'], ['H', 'T', 'H'], ['T', 'H', 'H'])\n",
    "\n",
    "\n",
    "def verify_headz(prob_head, num_flips):\n",
    "    hht_prob = prob_head * prob_head * (1-prob_head)    \n",
    "    return hht_prob\n",
    "\n",
    "\n",
    "\n",
    "def possibilities(flip, values):\n",
    "    if flip in our_events:\n",
    "        return True\n",
    "    else:\n",
    "        return False\n",
    "        \n",
    "def verify_heads(prob_head, num_flips):\n",
    "    ''' \n",
    "    Verifies the amount of times a coin flipped 3 times \n",
    "    will return heads twice and tails once.  \n",
    "    \n",
    "    '''\n",
    "    winners = []\n",
    "    weights = (prob_head, (1-prob_head))\n",
    "    events = ['H', 'T'] \n",
    "    \n",
    "    for i in range(num_flips):\n",
    "        \n",
    "        flips = [random.choice(['T', 'H']) for i in range(0, 3)]\n",
    "#         print(flips)\n",
    "        \n",
    "        if possibilities(flips, winners):\n",
    "            winners += flips\n",
    "#             print('WINNING:')\n",
    "#             print(winners)\n",
    "#             print('')\n",
    "            \n",
    "        \n",
    "    return len(winners)/num_flips\n",
    "\n",
    "\n",
    "print(verify_headz(0.50, 1000))\n",
    "print(verify_heads(0.50, 1000))\n"
   ]
  },
  {
   "cell_type": "code",
   "execution_count": 34,
   "metadata": {},
   "outputs": [],
   "source": [
    "from random import choices\n",
    "\n",
    "event = ['H', 'T']\n",
    "\n",
    "# Here we are saying the probability of getting Heads is 0.3,\n",
    "# and that the probability of getting Tails is 0.7\n",
    "\n",
    "\n",
    "def tester(prob_heads, num_flips):\n",
    "    for i in range(10):\n",
    "        weights = [prob_heads, 1-prob_heads]\n",
    "        print(choices(event, weights))\n",
    "    \n",
    "# Look at the below print statement.\n",
    "# The number of Heads should be roughly 30%\n",
    "# and the number of Tails should be roughly 70%\n",
    "# You can change the range above to get more values,\n",
    "# and see the percentage increase"
   ]
  },
  {
   "cell_type": "code",
   "execution_count": null,
   "metadata": {},
   "outputs": [],
   "source": []
  },
  {
   "cell_type": "code",
   "execution_count": null,
   "metadata": {},
   "outputs": [],
   "source": []
  }
 ],
 "metadata": {
  "kernelspec": {
   "display_name": "Python 3",
   "language": "python",
   "name": "python3"
  },
  "language_info": {
   "codemirror_mode": {
    "name": "ipython",
    "version": 3
   },
   "file_extension": ".py",
   "mimetype": "text/x-python",
   "name": "python",
   "nbconvert_exporter": "python",
   "pygments_lexer": "ipython3",
   "version": "3.7.4"
  }
 },
 "nbformat": 4,
 "nbformat_minor": 2
}
