{
 "cells": [
  {
   "cell_type": "code",
   "execution_count": 18,
   "metadata": {},
   "outputs": [
    {
     "name": "stdout",
     "output_type": "stream",
     "text": [
      "0.125\n",
      "1.1328\n"
     ]
    }
   ],
   "source": [
    "from random import choice, choices\n",
    "\n",
    "\n",
    "our_events = (['H', 'H', 'T'], ['H', 'T', 'H'], ['T', 'H', 'H'])\n",
    "\n",
    "\n",
    "def verify_headz(prob_head, num_flips):\n",
    "    hht_prob = prob_head * prob_head * (1-prob_head)    \n",
    "    return hht_prob\n",
    "\n",
    "\n",
    "\n",
    "def possibilities(flips, values):\n",
    "    if flips in our_events:\n",
    "        return True\n",
    "    else:\n",
    "        return False\n",
    "        \n",
    "def verify_heads(prob_head, num_flips):\n",
    "    ''' \n",
    "    Verifies the amount of times a coin flipped 3 times \n",
    "    will return heads twice and tails once.  \n",
    "    \n",
    "    '''\n",
    "    winner = 0\n",
    "    weights = (prob_head, (1-prob_head))\n",
    "    events = ['H', 'T'] \n",
    "    \n",
    "    for i in range(num_flips):\n",
    "        \n",
    "        flips = [choice(['T', 'H']) for i in range(0, 3)]\n",
    "#         print(flips)\n",
    "        if possibilities(flips, winners):\n",
    "            winner += 1\n",
    "#             print('WINNING')\n",
    "#             print(winners)\n",
    "#             print('')\n",
    "#         print('')   \n",
    "    trips = num_flips/3\n",
    "    return winner/trips\n",
    "\n",
    "\n",
    "print(verify_headz(0.50, 10000))\n",
    "print(verify_heads(0.50, 10000))\n"
   ]
  },
  {
   "cell_type": "code",
   "execution_count": 25,
   "metadata": {},
   "outputs": [
    {
     "name": "stdout",
     "output_type": "stream",
     "text": [
      "0.36813681368136814\n"
     ]
    }
   ],
   "source": [
    "\n",
    "# Here we are saying the probability of getting Heads is 0.3,\n",
    "# and that the probability of getting Tails is 0.7\n",
    "\n",
    "def triplet(event,weight):\n",
    "    \n",
    "    flips = []\n",
    "    for i in range(3):       \n",
    "        flip = choices(event,weight)\n",
    "        flips+=flip\n",
    "    \n",
    "    if flips in our_events:\n",
    "        return True\n",
    "    \n",
    "    return False\n",
    "\n",
    "def tester(prob_heads, num_flips):\n",
    "    event = ['H', 'T']\n",
    "    weights = [prob_heads, 1-prob_heads] \n",
    "    win = 0\n",
    "    trips = round(num_flips/3) \n",
    "\n",
    "    for i in range(trips):\n",
    "        if triplet(event,weights):\n",
    "            win+=1\n",
    "            \n",
    "    return win/trips\n",
    "            \n",
    "print(tester(0.5, 10000))\n",
    "# Look at the below print statement.\n",
    "# The number of Heads should be roughly 30%\n",
    "# and the number of Tails should be roughly 70%\n",
    "# You can change the range above to get more values,\n",
    "# and see the percentage increase"
   ]
  }
 ],
 "metadata": {
  "kernelspec": {
   "display_name": "Python 3",
   "language": "python",
   "name": "python3"
  },
  "language_info": {
   "codemirror_mode": {
    "name": "ipython",
    "version": 3
   },
   "file_extension": ".py",
   "mimetype": "text/x-python",
   "name": "python",
   "nbconvert_exporter": "python",
   "pygments_lexer": "ipython3",
   "version": "3.7.4"
  }
 },
 "nbformat": 4,
 "nbformat_minor": 2
}
