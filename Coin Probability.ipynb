{
 "cells": [
  {
   "cell_type": "code",
   "execution_count": 15,
   "metadata": {},
   "outputs": [
    {
     "name": "stdout",
     "output_type": "stream",
     "text": [
      "0.377\n"
     ]
    }
   ],
   "source": [
    "import random\n",
    "\n",
    "# def verify_head(prob_head, num_flips):\n",
    "    \n",
    "#     prob_head = 2\n",
    "#     hht = prob_head**2 - prob_head**3\n",
    "    \n",
    "#     # each trial we toss it 3 times \n",
    "#     trials = \n",
    "    \n",
    "#     for i in range(num_flips):\n",
    "#         hht = prob_head**2 - prob_head**3\n",
    "        \n",
    "    \n",
    "#     hht_prob = num_flips * hht\n",
    "    \n",
    "#     return hht_prob\n",
    "\n",
    "# verify_head(0.125, 3)\n",
    "\n",
    "\n",
    "def verify(a, b):\n",
    "    if a == ['H', 'H', 'T']:\n",
    "        b.append(a)\n",
    "        \n",
    "    elif a == ['H', 'T', 'H']:\n",
    "        b.append(a)\n",
    "        \n",
    "    elif a == ['T', 'H', 'H']:\n",
    "        b.append(a)\n",
    "        \n",
    "def verify_heads(prob_head, num_flips):\n",
    "    ''' \n",
    "    Verifies the amount of times a coin flipped 3 times will return heads twice and tails once.  \n",
    "    \n",
    "    '''\n",
    "    values = []\n",
    "    \n",
    "    for _ in range(num_flips):\n",
    "        \n",
    "        flips = [random.choice(['T', 'H']) for i in range(0, 3)]\n",
    "        \n",
    "        verify(tosses, values)\n",
    "        \n",
    "    return len(values)/num_flips\n",
    "\n",
    "\n",
    "\n",
    "print(verify_heads(0.75, 1000))\n"
   ]
  },
  {
   "cell_type": "code",
   "execution_count": 20,
   "metadata": {},
   "outputs": [
    {
     "ename": "NameError",
     "evalue": "name 'a' is not defined",
     "output_type": "error",
     "traceback": [
      "\u001b[0;31m---------------------------------------------------------------------------\u001b[0m",
      "\u001b[0;31mNameError\u001b[0m                                 Traceback (most recent call last)",
      "\u001b[0;32m<ipython-input-20-4e86a38a2113>\u001b[0m in \u001b[0;36m<module>\u001b[0;34m\u001b[0m\n\u001b[1;32m      5\u001b[0m \u001b[0;31m# Here we are saying the probability of getting Heads is 0.3,\u001b[0m\u001b[0;34m\u001b[0m\u001b[0;34m\u001b[0m\u001b[0;34m\u001b[0m\u001b[0m\n\u001b[1;32m      6\u001b[0m \u001b[0;31m# and that the probability of getting Tails is 0.7\u001b[0m\u001b[0;34m\u001b[0m\u001b[0;34m\u001b[0m\u001b[0;34m\u001b[0m\u001b[0m\n\u001b[0;32m----> 7\u001b[0;31m \u001b[0mweights\u001b[0m \u001b[0;34m=\u001b[0m \u001b[0;34m[\u001b[0m\u001b[0ma\u001b[0m\u001b[0;34m,\u001b[0m \u001b[0ma\u001b[0m\u001b[0;34m-\u001b[0m\u001b[0;36m1\u001b[0m\u001b[0;34m]\u001b[0m\u001b[0;34m\u001b[0m\u001b[0;34m\u001b[0m\u001b[0m\n\u001b[0m\u001b[1;32m      8\u001b[0m \u001b[0;34m\u001b[0m\u001b[0m\n\u001b[1;32m      9\u001b[0m \u001b[0;32mfor\u001b[0m \u001b[0mi\u001b[0m \u001b[0;32min\u001b[0m \u001b[0mrange\u001b[0m\u001b[0;34m(\u001b[0m\u001b[0;36m10\u001b[0m\u001b[0;34m)\u001b[0m\u001b[0;34m:\u001b[0m\u001b[0;34m\u001b[0m\u001b[0;34m\u001b[0m\u001b[0m\n",
      "\u001b[0;31mNameError\u001b[0m: name 'a' is not defined"
     ]
    }
   ],
   "source": [
    "from random import choices\n",
    "\n",
    "event = ['H', 'T']\n",
    "\n",
    "# Here we are saying the probability of getting Heads is 0.3,\n",
    "# and that the probability of getting Tails is 0.7\n",
    "weights = [a, a-1]\n",
    "\n",
    "for i in range(10):\n",
    "    print(choices(event, weights))\n",
    "    \n",
    "# Look at the below print statement.\n",
    "# The number of Heads should be roughly 30%\n",
    "# and the number of Tails should be roughly 70%\n",
    "# You can change the range above to get more values,\n",
    "# and see the percentage increase"
   ]
  },
  {
   "cell_type": "code",
   "execution_count": null,
   "metadata": {},
   "outputs": [],
   "source": []
  },
  {
   "cell_type": "code",
   "execution_count": null,
   "metadata": {},
   "outputs": [],
   "source": []
  }
 ],
 "metadata": {
  "kernelspec": {
   "display_name": "Python 3",
   "language": "python",
   "name": "python3"
  },
  "language_info": {
   "codemirror_mode": {
    "name": "ipython",
    "version": 3
   },
   "file_extension": ".py",
   "mimetype": "text/x-python",
   "name": "python",
   "nbconvert_exporter": "python",
   "pygments_lexer": "ipython3",
   "version": "3.7.4"
  }
 },
 "nbformat": 4,
 "nbformat_minor": 2
}
