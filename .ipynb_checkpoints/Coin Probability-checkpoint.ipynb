{
 "cells": [
  {
   "cell_type": "code",
   "execution_count": 68,
   "metadata": {},
   "outputs": [
    {
     "name": "stdout",
     "output_type": "stream",
     "text": [
      "0.125\n"
     ]
    }
   ],
   "source": [
    "from random import choice, choices\n",
    "\n",
    "\n",
    "our_events = (['H', 'H', 'T'], ['H', 'T', 'H'], ['T', 'H', 'H'])\n",
    "\n",
    "\n",
    "def tester(prob_head, num_flips):\n",
    "    hht_prob = prob_head * prob_head * (1-prob_head)    \n",
    "    return hht_prob\n",
    "\n",
    "\n",
    "print(tester(0.50, 10000))\n"
   ]
  },
  {
   "cell_type": "code",
   "execution_count": 69,
   "metadata": {},
   "outputs": [
    {
     "name": "stdout",
     "output_type": "stream",
     "text": [
      "answer:  0.3876387638763876\n"
     ]
    }
   ],
   "source": [
    "\n",
    "# Here we are saying the probability of getting Heads is 0.3,\n",
    "# and that the probability of getting Tails is 0.7\n",
    "\n",
    "\n",
    "def triplet(event,weight):\n",
    "    '''\n",
    "    Takes event and weight, returns True or False if desired flips occured. \n",
    "    '''\n",
    "    flips = []\n",
    "    for i in range(3):       \n",
    "        flip = choices(event,weight)\n",
    "        flips+=flip\n",
    "    \n",
    "    if flips in our_events:\n",
    "        return True\n",
    "    \n",
    "    return False\n",
    "\n",
    "def verify_heads(prob_head, num_flips):\n",
    "    events = ['H', 'T']\n",
    "    weights = [prob_head, 1-prob_head] \n",
    "\n",
    "    total = 0\n",
    "    win = 0\n",
    "    lose = 0\n",
    "\n",
    "    flips = []\n",
    "    for i in range(num_flips):\n",
    "        flip = choices(events,weights)\n",
    "        flips.append(flip)\n",
    "        if len(flips) == 3:\n",
    "            total += 1\n",
    "            if flips == [['T'], ['H'], ['H']]:\n",
    "                win += 1\n",
    "                flips = []\n",
    "            elif flips == [['H'], ['T'], ['H']]:\n",
    "                win += 1\n",
    "                flips = []\n",
    "            elif flips == [['H'], ['H'], ['T']]:\n",
    "                win += 1\n",
    "                flips = []\n",
    "            else:\n",
    "                lose += 1\n",
    "                flips = []\n",
    "        \n",
    "    return win/total\n",
    "    \n",
    "print('answer: ', test_me(0.5, 10000))\n",
    "\n",
    "\n",
    "\n",
    "\n",
    "def dict_tester(prob_heads, num_flips):\n",
    "\n",
    "    win = 0\n",
    "    trips = round(num_flips/3) \n",
    "\n",
    "    flips = {'H':0, 'T':0}\n",
    "    for i in range(num_flips):\n",
    "        win = 0\n",
    "        flip = choices(event,weights)\n",
    "        flips[flip] += 1\n",
    "        \n",
    "        if flips['T'] == 2:\n",
    "            flips = {'H':0, 'T':0}\n",
    "        elif flips['H'] == 2 and flips['T'] == 1:\n",
    "            flips = {'H':0, 'T':0}\n",
    "            win += 1\n",
    "            \n",
    "    return win/trips\n",
    "            \n",
    "# Look at the below print statement.\n",
    "# The number of Heads should be roughly 30%\n",
    "# and the number of Tails should be roughly 70%\n",
    "# You can change the range above to get more values,\n",
    "# and see the percentage increase"
   ]
  },
  {
   "cell_type": "code",
   "execution_count": null,
   "metadata": {},
   "outputs": [],
   "source": []
  }
 ],
 "metadata": {
  "kernelspec": {
   "display_name": "Python 3",
   "language": "python",
   "name": "python3"
  },
  "language_info": {
   "codemirror_mode": {
    "name": "ipython",
    "version": 3
   },
   "file_extension": ".py",
   "mimetype": "text/x-python",
   "name": "python",
   "nbconvert_exporter": "python",
   "pygments_lexer": "ipython3",
   "version": "3.7.4"
  }
 },
 "nbformat": 4,
 "nbformat_minor": 2
}
